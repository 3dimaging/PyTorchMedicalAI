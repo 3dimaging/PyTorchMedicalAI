{
  "nbformat": 4,
  "nbformat_minor": 0,
  "metadata": {
    "colab": {
      "name": "Copy of vgg-lightgbm-solution.ipynb",
      "version": "0.3.2",
      "provenance": [],
      "include_colab_link": true
    },
    "kernelspec": {
      "display_name": "Python 3",
      "language": "python",
      "name": "python3"
    }
  },
  "cells": [
    {
      "cell_type": "markdown",
      "metadata": {
        "id": "view-in-github",
        "colab_type": "text"
      },
      "source": [
        "<a href=\"https://colab.research.google.com/github/deeponcology/PyTorchMedicalAI/blob/master/vgg_1408_xgbgbm_solution.ipynb\" target=\"_parent\"><img src=\"https://colab.research.google.com/assets/colab-badge.svg\" alt=\"Open In Colab\"/></a>"
      ]
    },
    {
      "metadata": {
        "id": "ksZv9Q1mo1of",
        "colab_type": "code",
        "outputId": "4864eba2-8834-4476-ebe2-a470f979f529",
        "colab": {
          "base_uri": "https://localhost:8080/",
          "height": 35
        }
      },
      "cell_type": "code",
      "source": [
        "%reset -f\n",
        "import os\n",
        "import zipfile\n",
        "import hashlib\n",
        "from six.moves.urllib.error import URLError\n",
        "from six.moves.urllib.request import urlretrieve\n",
        "import argparse\n",
        "from tqdm import tqdm\n",
        "from keras.applications.resnet50 import ResNet50, preprocess_input as preprocess_resnet, decode_predictions\n",
        "from keras.applications.inception_v3 import InceptionV3, preprocess_input as preprocess_inception\n",
        "from keras.applications.vgg16 import VGG16, preprocess_input as preprocess_vgg\n",
        "from keras.preprocessing import image\n",
        "from keras import backend as K\n",
        "from keras.models import Model\n",
        "from keras.layers import GlobalAveragePooling2D, Concatenate\n",
        "import numpy as np\n",
        "\n",
        "import numpy as np\n",
        "import pandas as pd\n",
        "import time, os, glob\n",
        "import cv2\n",
        "\n",
        "from keras.applications.vgg16 import VGG16\n",
        "from keras.optimizers import SGD, Adam\n",
        "from keras.layers import GlobalAveragePooling2D\n",
        "from keras.models import Model\n",
        "from keras.applications.imagenet_utils import preprocess_input\n",
        "\n",
        "from os.path import isfile, join, abspath, exists, isdir, expanduser\n",
        "from os import listdir, makedirs, getcwd, remove"
      ],
      "execution_count": 0,
      "outputs": [
        {
          "output_type": "stream",
          "text": [
            "Using TensorFlow backend.\n"
          ],
          "name": "stderr"
        }
      ]
    },
    {
      "metadata": {
        "id": "A9VLquj9o1ok",
        "colab_type": "text"
      },
      "cell_type": "markdown",
      "source": [
        "# Data set"
      ]
    },
    {
      "metadata": {
        "id": "xvaJbluJo1ol",
        "colab_type": "code",
        "colab": {}
      },
      "cell_type": "code",
      "source": [
        "import os\n",
        "from glob import glob\n",
        "from matplotlib.pyplot import imshow\n",
        "import numpy as np\n",
        "from PIL import Image\n",
        "\n",
        "# data_dir=\"/media/nec/Data4TB/shlomo/bach/ICIAR2018_BACH_Challenge/Photos/train/\"\n",
        "# data_dir=\"/media/nec/Data4TB/shlomo/bach/ICIAR2018_BACH_Challenge/Photos/train/\"\n",
        "# data_dir= \"/media/nec/Data4TB/shlomo/boats/\"\n",
        "data_dir=\"/media/nec/Data4TB/shlomo/kvasir-dataset/\"\n",
        "\n",
        "dataset='celb/' # bone , cat-dog   d:/db/data/cat-dog/train/ ISIC2017 d:\\db\\data\\IDC_regular_ps50_idx5\\\n",
        "data_dir= 'c:/data/data/' +dataset\n",
        "\n",
        "imageList = glob(data_dir + '/**/*.jpg', recursive=True)\n",
        "print ( \"Number of images: {}\". format (len (imageList)))\n",
        "for img in imageList[0:5]:\n",
        "    print(img)\n",
        "    \n",
        "%matplotlib inline\n",
        "pil_im = Image.open(imageList[0], 'r')\n",
        "imshow(np.asarray(pil_im))"
      ],
      "execution_count": 0,
      "outputs": []
    },
    {
      "metadata": {
        "id": "8q-70_Yio1om",
        "colab_type": "text"
      },
      "cell_type": "markdown",
      "source": [
        "# Define pre trained networks"
      ]
    },
    {
      "metadata": {
        "id": "zlAhIZOho1on",
        "colab_type": "code",
        "colab": {}
      },
      "cell_type": "code",
      "source": [
        "from tqdm import tqdm # Enable progress bar\n",
        "from keras.applications.resnet50 import ResNet50, preprocess_input, decode_predictions # Load pre-trained model\n",
        "from keras.models import Model\n",
        "from keras.preprocessing import image\n",
        "from keras.layers import Flatten, Input\n",
        "\n",
        "\n",
        "class ResNetFV:\n",
        "    __name__ = \"ResNet\"        \n",
        "    # Construct a feature extractor based on pre-trained model    \n",
        "\n",
        "    def __init__(self,input_size=224,num_class=1,batch_size=32):\n",
        "        self.model = ResNet50(include_top=False, weights='imagenet')\n",
        "        \n",
        "        self.input = Input(shape=(input_size, input_size, 3), name='image_input')\n",
        "        feature_extractor = self.model(self.input)\n",
        "        flattener = Flatten()(feature_extractor)\n",
        "        self.bottleneck_feature_extractor = Model(inputs=self.input, outputs=flattener)        \n",
        "        \n",
        "        self.batch_size = batch_size\n",
        "        self.data_format = K.image_data_format()\n",
        "\n",
        "    def predict(self, x):\n",
        "        if self.data_format == \"channels_first\":\n",
        "            x = x.transpose(0, 3, 1, 2)\n",
        "        x = preprocess_resnet(x.astype(K.floatx()))\n",
        "        \n",
        "        self.bottleneck_features_train_raw = self.bottleneck_feature_extractor.predict(x, batch_size=self.batch_size)\n",
        "        self.bottleneck_features_train_reduced =  self.bottleneck_features_train_raw.squeeze()        \n",
        "        return self.bottleneck_features_train_reduced\n",
        "\n",
        "    \n",
        "class VGGFV:\n",
        "    __name__ = \"VGGFV\"\n",
        "\n",
        "    def __init__(self, feature_layer=\"block5_conv3\", input_size=224,num_class=1,batch_size=32):\n",
        "        base_model = VGG16(weights='imagenet', include_top=False,\n",
        "                           input_shape=[input_size,input_size,3], classes=num_class)\n",
        "                                        \n",
        "        x2 = GlobalAveragePooling2D()(base_model.get_layer(\"block2_conv2\").output)  # 128\n",
        "        x3 = GlobalAveragePooling2D()(base_model.get_layer(\"block3_conv3\").output)  # 256\n",
        "        x4 = GlobalAveragePooling2D()(base_model.get_layer(\"block4_conv3\").output)  # 512\n",
        "        x5 = GlobalAveragePooling2D()(base_model.get_layer(\"block5_conv3\").output)  # 512        \n",
        "        x = Concatenate()([x2,x3,x4,x5])        \n",
        "\n",
        "        model = Model(inputs=base_model.input, outputs=x)        \n",
        "        optimizer = Adam(lr=0.0001)\n",
        "        model.compile(loss='categorical_crossentropy',\n",
        "                      optimizer=optimizer,\n",
        "                      metrics=['accuracy'])\n",
        "        \n",
        "        self.model=model    \n",
        "        self.batch_size = batch_size\n",
        "        self.data_format = K.image_data_format()\n",
        "    \n",
        "    def predict(self, x):\n",
        "        if self.data_format == \"channels_first\":\n",
        "            x = x.transpose(0, 3, 1, 2)\n",
        "        x = preprocess_vgg(x.astype(K.floatx()))\n",
        "        return self.model.predict(x, batch_size=self.batch_size).squeeze()\n",
        "    \n",
        "    \n",
        "def find_classes(fullDir):    \n",
        "    print (\"Full dir:{}\".format(fullDir))\n",
        "    classes = [d for d in os.listdir(fullDir) if os.path.isdir(os.path.join(fullDir, d))]\n",
        "    classes.sort()\n",
        "    class_to_idx = {classes[i]: i for i in range(len(classes))}\n",
        "    num_to_class = dict(zip(range(len(classes)), classes))\n",
        "\n",
        "    print('Sorted Classes: {}'.format(classes))\n",
        "    print('class_to_idx: {}'.format(class_to_idx))\n",
        "    print('num_to_class: {}'.format(num_to_class))\n",
        "\n",
        "    train = []\n",
        "    for index, label in enumerate(classes):\n",
        "        path = fullDir + label + '/'\n",
        "        for file in listdir(path):\n",
        "            if file.endswith('tif') or file.endswith('jpg') or file.endswith('png'):\n",
        "                train.append(['{}/{}/{}'.format(fullDir, label, file), label, index])\n",
        "\n",
        "    df = pd.DataFrame(train, columns=['file', 'category', 'category_id', ])\n",
        "\n",
        "    return classes, class_to_idx, num_to_class, df\n",
        "    "
      ],
      "execution_count": 0,
      "outputs": []
    },
    {
      "metadata": {
        "id": "tyA80dMho1oo",
        "colab_type": "text"
      },
      "cell_type": "markdown",
      "source": [
        "# Test VGG"
      ]
    },
    {
      "metadata": {
        "id": "NRj-wzzNo1oo",
        "colab_type": "code",
        "colab": {}
      },
      "cell_type": "code",
      "source": [
        "# img_path = \"plays.jpg\"\n",
        "\n",
        "# img = image.load_img(img_path, target_size=(64, 64))\n",
        "# x = image.img_to_array(img)\n",
        "# x = np.expand_dims(x, axis=0)\n",
        "# x = preprocess_vgg(x)\n",
        "# print (x.shape)\n",
        "\n",
        "feature_layer = \"block5_conv3\" # 512\n",
        "input_size=224\n",
        "\n",
        "model = VGGFV (feature_layer, input_size=input_size,num_class=1)\n",
        "# model=ResNetFV (input_size=input_size,num_class=1)\n",
        "\n",
        "# vgg_feature_vector = model.predict(x)\n",
        "# print (vgg_feature_vector.shape)\n",
        "# vgg_feature_vector\n",
        "\n",
        "\n",
        "\n",
        "\n",
        "columns=['file', 'category_id', 'fv']\n",
        "X_df_train=pd.DataFrame(data=np.zeros((0,len(columns))), columns=columns)\n",
        "classes, class_to_idx, num_to_class, df= find_classes(data_dir)\n",
        "print (class_to_idx)\n",
        "\n",
        "# Empty arrays for storing extracted features\n",
        "X_train = []; X_test = []\n",
        "\n",
        "# Extract bottleneck features of photos for traninig    \n",
        "for index, row in tqdm(df.iterrows()):\n",
        "    img = image.load_img(row['file'], target_size=(input_size, input_size))\n",
        "    x = image.img_to_array(img)\n",
        "    x = np.expand_dims(x, axis=0)    \n",
        "    vgg_feature_vector = model.predict(x)\n",
        "    X_train.append(vgg_feature_vector)\n",
        "#     print (vgg_feature_vector)\n",
        "    \n",
        "    X_df_train = X_df_train.append({ 'file':row['file'], \n",
        "                              'category_id':row['category'],                               \n",
        "                              'fv':vgg_feature_vector },\n",
        "                                 ignore_index=True)\n",
        "    \n",
        "\n",
        "# X_df_train.category_id.astype(int)    \n",
        "print(X_df_train.info())    \n",
        "\n",
        "X_df_train.to_csv('predictions_df.csv', index = False)\n",
        "X_df_train.head(5)"
      ],
      "execution_count": 0,
      "outputs": []
    },
    {
      "metadata": {
        "id": "N9rAj31ao1oq",
        "colab_type": "code",
        "outputId": "a7e3c57a-9a5a-4fb6-fd99-e8cb3ecc824a",
        "colab": {}
      },
      "cell_type": "code",
      "source": [
        "import pandas \n",
        "X_df_train_SINGLE=X_df_train.copy(deep=True)\n",
        "X_df_train_SINGLE.drop('file', axis=1, inplace=True)\n",
        "answers_1_SINGLE = list (X_df_train_SINGLE['category_id'].values)\n",
        "# answers_1_SINGLE= map(int, answers_1_SINGLE)\n",
        "X_df_train_SINGLE = X_df_train_SINGLE.drop('category_id', axis=1)\n",
        "X_df_train_SINGLE=X_df_train_SINGLE.apply(lambda x: pandas.to_numeric(x, errors='ignore'))\n",
        "\n",
        "X_df_train_SINGLE.head(3)\n"
      ],
      "execution_count": 0,
      "outputs": [
        {
          "output_type": "execute_result",
          "data": {
            "text/html": [
              "<div>\n",
              "<style scoped>\n",
              "    .dataframe tbody tr th:only-of-type {\n",
              "        vertical-align: middle;\n",
              "    }\n",
              "\n",
              "    .dataframe tbody tr th {\n",
              "        vertical-align: top;\n",
              "    }\n",
              "\n",
              "    .dataframe thead th {\n",
              "        text-align: right;\n",
              "    }\n",
              "</style>\n",
              "<table border=\"1\" class=\"dataframe\">\n",
              "  <thead>\n",
              "    <tr style=\"text-align: right;\">\n",
              "      <th></th>\n",
              "      <th>fv</th>\n",
              "    </tr>\n",
              "  </thead>\n",
              "  <tbody>\n",
              "    <tr>\n",
              "      <th>0</th>\n",
              "      <td>[206.22507, 192.17157, 103.1211, 219.548, 296....</td>\n",
              "    </tr>\n",
              "    <tr>\n",
              "      <th>1</th>\n",
              "      <td>[327.95407, 166.00748, 112.7053, 256.54224, 31...</td>\n",
              "    </tr>\n",
              "    <tr>\n",
              "      <th>2</th>\n",
              "      <td>[262.49042, 189.44162, 138.3272, 267.84396, 27...</td>\n",
              "    </tr>\n",
              "  </tbody>\n",
              "</table>\n",
              "</div>"
            ],
            "text/plain": [
              "                                                  fv\n",
              "0  [206.22507, 192.17157, 103.1211, 219.548, 296....\n",
              "1  [327.95407, 166.00748, 112.7053, 256.54224, 31...\n",
              "2  [262.49042, 189.44162, 138.3272, 267.84396, 27..."
            ]
          },
          "metadata": {
            "tags": []
          },
          "execution_count": 4
        }
      ]
    },
    {
      "metadata": {
        "id": "e2mlqhLDo1os",
        "colab_type": "code",
        "outputId": "40e7d808-8887-449b-e3e3-8ebf9f4bc598",
        "colab": {}
      },
      "cell_type": "code",
      "source": [
        "# Function to make labels in the data frame into a list (i.e. 0 8 => [0, 8])\n",
        "def labels_to_list(labels): return list(map(int, labels.split()))\n",
        "\n",
        "# Process train & test set into an array format\n",
        "X_train = np.array([x for x in X_df_train['fv']])\n",
        "Y_train = np.array([list (X_df_train['category_id'].values)]).reshape(X_train.shape[0],1)\n",
        "# Y_train=Y_train.reshape(2002,1)\n",
        "# Y_train = np.array([labels_to_list(y) for y in X_df_train['category_id']])\n",
        "\n",
        "\n",
        "# Check shape of array-format train & test set\n",
        "print(\"X_train: \", X_train.shape)\n",
        "print(\"Y_train: \", Y_train.shape)"
      ],
      "execution_count": 0,
      "outputs": [
        {
          "output_type": "stream",
          "text": [
            "X_train:  (4000, 1408)\n",
            "Y_train:  (4000, 1)\n"
          ],
          "name": "stdout"
        }
      ]
    },
    {
      "metadata": {
        "id": "MBL_RQO7o1ot",
        "colab_type": "code",
        "colab": {}
      },
      "cell_type": "code",
      "source": [
        "# Load packages for splitting train & validation set, XGBoost classifier, 1-of-K encoder\n",
        "from sklearn.model_selection import train_test_split\n",
        "from sklearn.preprocessing import MultiLabelBinarizer\n",
        "from sklearn.multiclass import OneVsRestClassifier\n",
        "from xgboost import XGBClassifier\n",
        "\n",
        "# Package for estimating a time taken\n",
        "import time; t=time.time()"
      ],
      "execution_count": 0,
      "outputs": []
    },
    {
      "metadata": {
        "id": "PCHCX2Wro1ov",
        "colab_type": "code",
        "outputId": "5a27b1a3-01a1-4477-d5ff-53a27e5d2465",
        "colab": {}
      },
      "cell_type": "code",
      "source": [
        "from sklearn.utils import class_weight\n",
        "\n",
        "# Convert list of labels to follow 1-of-K coding scheme\n",
        "one_of_K_encoder = MultiLabelBinarizer()\n",
        "Y_train_ = one_of_K_encoder.fit_transform(Y_train)\n",
        "\n",
        "# Split train set into 8:2 (train : validation)\n",
        "random_state = np.random.RandomState(999)\n",
        "X_train_, X_test_, Y_train_, Y_test_ = train_test_split(X_train, Y_train_, test_size=0.2, \n",
        "                                                        #stratify=['category_id'],\n",
        "                                                        random_state=random_state)\n",
        "\n",
        "mx_depth=9\n",
        "# Train the XGBoost classifier\n",
        "classifier = OneVsRestClassifier(XGBClassifier(num_class=len(classes), \n",
        "                                               gamma=0.024, \n",
        "                                               learning_rate=0.3, \n",
        "                                               max_depth=20, \n",
        "                                               nthread=4, \n",
        "                                               n_estimators=1000,\n",
        "                                               objective=\"multi:softmax\")) # 'multi:softprob'?\n",
        "\n",
        "classifier = OneVsRestClassifier(XGBClassifier(num_class=len(classes),\n",
        "                                base_score=0.5, colsample_bytree=0.5, \n",
        "                               gamma=0.017,learning_rate=0.15, max_delta_step=0, \n",
        "                               max_depth=mx_depth, min_child_weight=3, n_estimators=3000, \n",
        "                               nthread=-1, objective='multi:softmax', seed=0, \n",
        "                               silent=1, subsample=0.8, eta=0.3)) # class_weight='auto'\n",
        "\n",
        "# multi:softprob' target to predict probabilities (2d array)\n",
        "    \n",
        "classifier.fit(X_train_, Y_train_)\n",
        "# Show spent time\n",
        "print(\"Time passed: \", \"{0:.3f}\".format(time.time() - t), \"sec\")"
      ],
      "execution_count": 0,
      "outputs": [
        {
          "output_type": "stream",
          "text": [
            "Time passed:  2843.293 sec\n"
          ],
          "name": "stdout"
        }
      ]
    },
    {
      "metadata": {
        "id": "edLQbnY8o1ow",
        "colab_type": "code",
        "outputId": "e223a60d-3774-4b68-c258-2323c537471c",
        "colab": {}
      },
      "cell_type": "code",
      "source": [
        "print (one_of_K_encoder.classes_)"
      ],
      "execution_count": 0,
      "outputs": [
        {
          "output_type": "stream",
          "text": [
            "['dyed-lifted-polyps' 'dyed-resection-margins' 'esophagitis'\n",
            " 'normal-cecum' 'normal-pylorus' 'normal-z-line' 'polyps'\n",
            " 'ulcerative-colitis']\n"
          ],
          "name": "stdout"
        }
      ]
    },
    {
      "metadata": {
        "id": "2kkgUF40o1oy",
        "colab_type": "code",
        "outputId": "97d1d110-7134-4610-8d58-675a63145b36",
        "colab": {}
      },
      "cell_type": "code",
      "source": [
        "# Predict labels using the trained model\n",
        "# Y_predict = classifier.predict_proba(X_test_) # probs\n",
        "# Predict labels using the trained model\n",
        "Y_predict = classifier.predict(X_test_) # classes \n",
        "\n",
        "\n",
        "# Show some predicted values\n",
        "print(\"Samples of predicted labels (in 1-of-K coding scheme):\\n\", Y_predict[1:8])\n",
        "print(\"\\nSamples of corresponding predicted labels:\\n\", one_of_K_encoder.inverse_transform(Y_predict[1:8]))"
      ],
      "execution_count": 0,
      "outputs": [
        {
          "output_type": "stream",
          "text": [
            "Samples of predicted labels (in 1-of-K coding scheme):\n",
            " [[0 0 0 0 0 0 0 1]\n",
            " [0 0 0 0 1 0 0 0]\n",
            " [0 0 0 1 0 0 0 0]\n",
            " [0 0 0 0 0 0 0 0]\n",
            " [0 0 0 0 0 1 0 0]\n",
            " [0 0 1 0 0 1 0 0]\n",
            " [0 0 0 0 1 0 0 0]]\n",
            "\n",
            "Samples of corresponding predicted labels:\n",
            " [('ulcerative-colitis',), ('normal-pylorus',), ('normal-cecum',), (), ('normal-z-line',), ('esophagitis', 'normal-z-line'), ('normal-pylorus',)]\n"
          ],
          "name": "stdout"
        }
      ]
    },
    {
      "metadata": {
        "id": "pQf5wy3No1oz",
        "colab_type": "text"
      },
      "cell_type": "markdown",
      "source": [
        "Note that the several instances returned all zeroes, indicating that they matched none of the three labels fit"
      ]
    },
    {
      "metadata": {
        "id": "u6bpkRwso1o0",
        "colab_type": "code",
        "outputId": "b5099c8c-d379-4bf2-8f76-e837841e2874",
        "colab": {}
      },
      "cell_type": "code",
      "source": [
        "from sklearn.metrics import f1_score # For measuring F1 score metrics\n",
        "import numpy as np\n",
        "import pandas as pd\n",
        "import matplotlib.pyplot as plt\n",
        "import seaborn as sns\n",
        "from sklearn.metrics import confusion_matrix\n",
        "from sklearn.metrics import confusion_matrix\n",
        "\n",
        "\n",
        "# Show global F1 score & on-label F1 score\n",
        "print(\"Overall F1 score: \", f1_score(Y_test_, Y_predict, average='micro')) \n",
        "print(\"F1 score of each label : \", f1_score(Y_test_, Y_predict, average=None))"
      ],
      "execution_count": 0,
      "outputs": [
        {
          "output_type": "stream",
          "text": [
            "Overall F1 score:  0.8736979166666667\n",
            "F1 score of each label :  [0.82233503 0.85067873 0.83146067 0.93167702 0.96907216 0.83333333\n",
            " 0.87046632 0.89      ]\n"
          ],
          "name": "stdout"
        }
      ]
    },
    {
      "metadata": {
        "id": "xduoLpOco1o2",
        "colab_type": "text"
      },
      "cell_type": "markdown",
      "source": [
        "### CM\n",
        "- input to confusion_matrix must be a list of predictions, not OHEs (one hot encodings)."
      ]
    },
    {
      "metadata": {
        "id": "QSz49sbQo1o2",
        "colab_type": "code",
        "colab": {}
      },
      "cell_type": "code",
      "source": [
        "import numpy as np\n",
        "import pandas as pd\n",
        "import matplotlib.pyplot as plt\n",
        "import seaborn as sns\n",
        "from sklearn.metrics import confusion_matrix\n",
        "from sklearn.metrics import confusion_matrix\n",
        "\n",
        "# labels = np.array([0, 1,2])\n",
        "labels= one_of_K_encoder.classes_\n",
        "\n",
        "def cm_analysis(y_true, y_pred, labels, ymap=None, figsize=(10,10)):\n",
        "    \"\"\"\n",
        "    Generate matrix plot of confusion matrix with pretty annotations.\n",
        "    The plot image is saved to disk.\n",
        "    args: \n",
        "      y_true:    true label of the data, with shape (nsamples,)\n",
        "      y_pred:    prediction of the data, with shape (nsamples,)\n",
        "      filename:  filename of figure file to save\n",
        "      labels:    string array, name the order of class labels in the confusion matrix.\n",
        "                 use `clf.classes_` if using scikit-learn models.\n",
        "                 with shape (nclass,).\n",
        "      ymap:      dict: any -> string, length == nclass.\n",
        "                 if not None, map the labels & ys to more understandable strings.\n",
        "                 Caution: original y_true, y_pred and labels must align.\n",
        "      figsize:   the size of the figure plotted.\n",
        "    \"\"\"\n",
        "    if ymap is not None:\n",
        "        y_pred = [ymap[yi] for yi in y_pred]\n",
        "        y_true = [ymap[yi] for yi in y_true]\n",
        "        labels = [ymap[yi] for yi in labels]\n",
        "    cm = confusion_matrix(y_true, y_pred, labels=None)\n",
        "    cm_sum = np.sum(cm, axis=1, keepdims=True)\n",
        "    cm_perc = cm / cm_sum.astype(float) * 100\n",
        "    annot = np.empty_like(cm).astype(str)\n",
        "    nrows, ncols = cm.shape\n",
        "    for i in range(nrows):\n",
        "        for j in range(ncols):\n",
        "            c = cm[i, j]\n",
        "            p = cm_perc[i, j]\n",
        "            if i == j:\n",
        "                s = cm_sum[i]\n",
        "                annot[i, j] = '%.1f%%\\n%d/%d' % (p, c, s)\n",
        "            elif c == 0:\n",
        "                annot[i, j] = ''\n",
        "            else:\n",
        "                annot[i, j] = '%.1f%%\\n%d' % (p, c)\n",
        "    cm = pd.DataFrame(cm, index=labels, columns=labels)\n",
        "    cm.index.name = 'Actual'\n",
        "    cm.columns.name = 'Predicted'\n",
        "    fig, ax = plt.subplots(figsize=figsize)\n",
        "    sns.heatmap(cm, annot=annot, fmt='', ax=ax)\n",
        "#     plt.savefig(filename)"
      ],
      "execution_count": 0,
      "outputs": []
    },
    {
      "metadata": {
        "id": "XO-4W5J-o1o3",
        "colab_type": "code",
        "outputId": "7b2da6d0-8cfc-4755-d906-3615ff4c3580",
        "colab": {}
      },
      "cell_type": "code",
      "source": [
        "cm_analysis(Y_test_.argmax(axis=1), Y_predict.argmax(axis=1),labels)"
      ],
      "execution_count": 0,
      "outputs": [
        {
          "output_type": "display_data",
          "data": {
            "image/png": "[encoded data removed]",
            "text/plain": [
              "<Figure size 720x720 with 2 Axes>"
            ]
          },
          "metadata": {
            "tags": []
          }
        }
      ]
    },
    {
      "metadata": {
        "id": "jxeRF26Vo1o4",
        "colab_type": "code",
        "colab": {}
      },
      "cell_type": "code",
      "source": [
        ""
      ],
      "execution_count": 0,
      "outputs": []
    },
    {
      "metadata": {
        "id": "GzyF9G1So1o6",
        "colab_type": "code",
        "colab": {}
      },
      "cell_type": "code",
      "source": [
        ""
      ],
      "execution_count": 0,
      "outputs": []
    },
    {
      "metadata": {
        "id": "UCQ3qKjTo1o7",
        "colab_type": "code",
        "colab": {}
      },
      "cell_type": "code",
      "source": [
        ""
      ],
      "execution_count": 0,
      "outputs": []
    },
    {
      "metadata": {
        "id": "q8ZltP0Ho1o7",
        "colab_type": "code",
        "colab": {}
      },
      "cell_type": "code",
      "source": [
        ""
      ],
      "execution_count": 0,
      "outputs": []
    },
    {
      "metadata": {
        "id": "wXgNgP5Go1o8",
        "colab_type": "code",
        "colab": {}
      },
      "cell_type": "code",
      "source": [
        ""
      ],
      "execution_count": 0,
      "outputs": []
    },
    {
      "metadata": {
        "id": "8YllTORto1o8",
        "colab_type": "code",
        "colab": {}
      },
      "cell_type": "code",
      "source": [
        ""
      ],
      "execution_count": 0,
      "outputs": []
    },
    {
      "metadata": {
        "id": "HrMxy65Do1o9",
        "colab_type": "code",
        "colab": {}
      },
      "cell_type": "code",
      "source": [
        ""
      ],
      "execution_count": 0,
      "outputs": []
    },
    {
      "metadata": {
        "id": "0pG2V5JNo1o9",
        "colab_type": "code",
        "colab": {}
      },
      "cell_type": "code",
      "source": [
        ""
      ],
      "execution_count": 0,
      "outputs": []
    },
    {
      "metadata": {
        "id": "bmqqkWpXo1o-",
        "colab_type": "code",
        "colab": {}
      },
      "cell_type": "code",
      "source": [
        ""
      ],
      "execution_count": 0,
      "outputs": []
    },
    {
      "metadata": {
        "id": "Qpv6TyZVo1pA",
        "colab_type": "code",
        "colab": {}
      },
      "cell_type": "code",
      "source": [
        ""
      ],
      "execution_count": 0,
      "outputs": []
    },
    {
      "metadata": {
        "id": "KFviki0zo1pA",
        "colab_type": "code",
        "colab": {}
      },
      "cell_type": "code",
      "source": [
        ""
      ],
      "execution_count": 0,
      "outputs": []
    },
    {
      "metadata": {
        "id": "DComiADco1pB",
        "colab_type": "code",
        "colab": {}
      },
      "cell_type": "code",
      "source": [
        ""
      ],
      "execution_count": 0,
      "outputs": []
    },
    {
      "metadata": {
        "id": "ISHT5PS1o1pB",
        "colab_type": "code",
        "colab": {}
      },
      "cell_type": "code",
      "source": [
        ""
      ],
      "execution_count": 0,
      "outputs": []
    },
    {
      "metadata": {
        "id": "1mQmD6bco1pB",
        "colab_type": "code",
        "colab": {}
      },
      "cell_type": "code",
      "source": [
        ""
      ],
      "execution_count": 0,
      "outputs": []
    },
    {
      "metadata": {
        "id": "er0c679Oo1pC",
        "colab_type": "code",
        "colab": {}
      },
      "cell_type": "code",
      "source": [
        ""
      ],
      "execution_count": 0,
      "outputs": []
    },
    {
      "metadata": {
        "id": "Z5Bh65X4o1pD",
        "colab_type": "code",
        "colab": {}
      },
      "cell_type": "code",
      "source": [
        ""
      ],
      "execution_count": 0,
      "outputs": []
    },
    {
      "metadata": {
        "id": "pe8p7EXio1pD",
        "colab_type": "code",
        "colab": {}
      },
      "cell_type": "code",
      "source": [
        ""
      ],
      "execution_count": 0,
      "outputs": []
    },
    {
      "metadata": {
        "id": "ZV3aLlVro1pE",
        "colab_type": "code",
        "colab": {}
      },
      "cell_type": "code",
      "source": [
        ""
      ],
      "execution_count": 0,
      "outputs": []
    },
    {
      "metadata": {
        "id": "8sE9K9qRo1pE",
        "colab_type": "code",
        "colab": {}
      },
      "cell_type": "code",
      "source": [
        ""
      ],
      "execution_count": 0,
      "outputs": []
    },
    {
      "metadata": {
        "id": "QIdOqeVNo1pG",
        "colab_type": "code",
        "colab": {}
      },
      "cell_type": "code",
      "source": [
        ""
      ],
      "execution_count": 0,
      "outputs": []
    },
    {
      "metadata": {
        "id": "UrtGBdmUo1pG",
        "colab_type": "code",
        "colab": {}
      },
      "cell_type": "code",
      "source": [
        ""
      ],
      "execution_count": 0,
      "outputs": []
    }
  ]
}